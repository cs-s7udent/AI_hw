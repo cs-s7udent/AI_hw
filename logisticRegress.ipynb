{
 "cells": [
  {
   "cell_type": "markdown",
   "metadata": {},
   "source": [
    "## CSPB 3202 Homework 5\n",
    "### Name: Ning Chih Chang\n",
    "### Github link: https://github.com/cs-s7udent/AI_hw\n",
    "\n",
    "The homework is a Kaggle competition called \"Histopathologic Cancer Detection\" which challenges us to train a model that can identify tumor cell in photos. According to Cukierski (n.d.), the dataset is modified from the PatchCamelyon (Pcam) benchmark dataset. The dataset contains over 227,000 color photos that are size 96 * 96 pixels and two csv files that both are label information. From the characteristics of the challenge and dataset, we know that we are solving a classification problem using supervised learning.  \n"
   ]
  },
  {
   "cell_type": "markdown",
   "metadata": {},
   "source": [
    "### Exploratory Data Analysis\n",
    "I would like to explore the sample size and the characteristics of the images. Therefore, the size of the training and testing set are printed out. Also, an example image from the training set in numpy array and its shape are printed out. Lastly, I would like to look at the histogram of the training label data to understand if it is balanced.  "
   ]
  },
  {
   "cell_type": "code",
   "execution_count": 1,
   "metadata": {},
   "outputs": [
    {
     "name": "stdout",
     "output_type": "stream",
     "text": [
      "The training set has 220026 files\n",
      "Here is a sample image in ndarray\n",
      "[[[248 183 213]\n",
      "  [234 167 198]\n",
      "  [195 128 159]\n",
      "  ...\n",
      "  [225 168 187]\n",
      "  [193 125 148]\n",
      "  [236 161 184]]\n",
      "\n",
      " [[193 134 162]\n",
      "  [255 223 251]\n",
      "  [162 101 132]\n",
      "  ...\n",
      "  [190 131 153]\n",
      "  [248 183 205]\n",
      "  [229 155 180]]\n",
      "\n",
      " [[141  91 116]\n",
      "  [255 218 246]\n",
      "  [162 107 136]\n",
      "  ...\n",
      "  [219 157 182]\n",
      "  [208 142 169]\n",
      "  [194 124 152]]\n",
      "\n",
      " ...\n",
      "\n",
      " [[124  58  96]\n",
      "  [171 101 138]\n",
      "  [225 151 188]\n",
      "  ...\n",
      "  [186 119 152]\n",
      "  [191 124 159]\n",
      "  [199 132 167]]\n",
      "\n",
      " [[ 97  40  75]\n",
      "  [ 93  31  68]\n",
      "  [152  82 118]\n",
      "  ...\n",
      "  [194 123 157]\n",
      "  [208 138 175]\n",
      "  [202 131 171]]\n",
      "\n",
      " [[ 75  23  59]\n",
      "  [105  49  84]\n",
      "  [192 127 161]\n",
      "  ...\n",
      "  [183 109 146]\n",
      "  [219 147 185]\n",
      "  [148  77 119]]]\n",
      "The shape of that sample image is (96, 96, 3)\n",
      "The testing set has 57458 files\n"
     ]
    }
   ],
   "source": [
    "# code here has been reference to Scikit-image. (n.d.). *skimage.io.* Retrieved July 30, 2024, from https://scikit-image.org/docs/stable/api/skimage.io.html\n",
    "import os\n",
    "import skimage.io as skio\n",
    "\n",
    "train = os.listdir(\"train\")\n",
    "print(\"The training set has \" + str(len(train)) + \" files\")\n",
    "# read image\n",
    "f = skio.imread(\"train/\" + train[0])\n",
    "print(\"Here is a sample image in ndarray\")\n",
    "print(f)\n",
    "print(\"The shape of that sample image is \"+str(f.shape))\n",
    "test = os.listdir(\"test\")\n",
    "print(\"The testing set has \" + str(len(test)) + \" files\")"
   ]
  },
  {
   "cell_type": "code",
   "execution_count": 2,
   "metadata": {},
   "outputs": [
    {
     "data": {
      "image/png": "[encoded data removed]",
      "text/plain": [
       "<Figure size 640x480 with 1 Axes>"
      ]
     },
     "metadata": {},
     "output_type": "display_data"
    }
   ],
   "source": [
    "# code here has been referenced to Pandas. (n.d.). *pandas.read_csv.* Retrieved July 30, 2024, from https://pandas.pydata.org/pandas-docs/stable/reference/api/pandas.read_csv.html\n",
    "import pandas as pd\n",
    "import matplotlib.pyplot as plt\n",
    "import numpy as np\n",
    "\n",
    "df = pd.DataFrame()\n",
    "labels = np.array([])\n",
    "with pd.read_csv(\"train_labels/train_labels.csv\", chunksize=1000, iterator=True) as reader:\n",
    "    for chunk in reader:\n",
    "        labels = np.append(chunk[\"label\"], labels)\n",
    "\n",
    "plt.hist(labels)\n",
    "plt.title(\"Frequency Histogram of Training Labels\")\n",
    "plt.ylabel(\"Count\")\n",
    "plt.xlabel(\"Label Value\")\n",
    "plt.show()"
   ]
  },
  {
   "cell_type": "markdown",
   "metadata": {},
   "source": [
    "From the histogram, the quantity difference between two labels is not significant. We can see that the labels are binary, and we need to predict the testing data with answers that is either 1 (i.e., this is a cancer cell) or 0 (i.e., this is not a cancer cell). The model for this challenge can be Logistic Regression because we are dealing with binary classification problem. Yet, because the dataset is a collection of pictures with label information, CNN could be also an appropriate approach for this challenge. Ideally, I would like to try both and see which one can establish a better model. However, due to the time limitation, I will only use Logistic Regression for this homework.\n",
    "\n",
    "Based on Galarnyk (2017) and Steegstra (2018), training Logistic Regression Model for image classification involves preprocessing data, training data and testing data. Scikit-Learn has various appropriate tools for this task.\n",
    "\n",
    "First of all, the training images and labels are extracted from the dataset, transferred into numpy arrays, and split into training and validation sets. Then, we reshape the X training and validation sets from a 3D array to a 1D array due to the parameter requirement of the fitting function mentioned in Scikit-learn (n.d.-e). Furthermore, we standardize the reshaped training and validation sets and apply them with the training y and validation y set to build and test a Logistic Regression model."
   ]
  },
  {
   "cell_type": "markdown",
   "metadata": {},
   "source": [
    "Here, we are going to preprocess data, which includes extracting the training images and labels into two numpy arrays, splitting into training and validation sets, and reshaping the sets. Furthermore, the shape of each training and validation sets are printed."
   ]
  },
  {
   "cell_type": "code",
   "execution_count": 3,
   "metadata": {},
   "outputs": [],
   "source": [
    "# code here has been reference to Python. (2024, July 28). *csv — CSV File Reading and Writing.* https://docs.python.org/3/library/csv.html\n",
    "# code here has been reference to Scikit-image. (n.d.). *skimage.io.* Retrieved July 30, 2024, from https://scikit-image.org/docs/stable/api/skimage.io.html\n",
    "# code here has been referenced to Steegstra, P. (2018, April 10). *Tutorial: image classification with scikit-learn.* Kapernikov. https://kapernikov.com/tutorial-image-classification-with-scikit-learn/\n",
    "# extract training image data and label\n",
    "import os\n",
    "import csv\n",
    "import skimage.io as skio\n",
    "import matplotlib.pyplot as plt\n",
    "import numpy as np\n",
    "from sklearn.model_selection import train_test_split\n",
    "from sklearn.linear_model import LogisticRegression\n",
    "\n",
    "data = dict()\n",
    "data[\"filename\"]=[]\n",
    "data[\"label\"]=[]\n",
    "data[\"data\"]=[]\n",
    "\n",
    "with open(\"train_labels\\\\train_labels.csv\", newline='') as csvfile:\n",
    "    f = csv.reader(csvfile)\n",
    "    for row in f:\n",
    "        if row[0] != \"id\":\n",
    "            filename = \"train\\\\\"+row[0]+\".tif\"\n",
    "            data[\"filename\"].append(row[0])\n",
    "            arr = skio.imread(filename)\n",
    "            data[\"data\"].append(arr)\n",
    "            data[\"label\"].append(row[1])\n",
    "\n",
    "X = np.array(data['data'])\n",
    "y = np.array(data['label'])\n"
   ]
  },
  {
   "cell_type": "code",
   "execution_count": 4,
   "metadata": {},
   "outputs": [
    {
     "name": "stdout",
     "output_type": "stream",
     "text": [
      "X_train is (176020, 96, 96, 3)\n",
      "Reshaped X_train is (176020, 27648)\n",
      "X_valid is (44005, 96, 96, 3)\n",
      "Reshaped X_valid is (44005, 27648)\n",
      "y_train is (176020,)\n",
      "y_valid is (44005,)\n"
     ]
    }
   ],
   "source": [
    "# code here has been referenced to Numpy. (n.d.). *numpy.reshape.* Retrieved July 30, 2024, from https://numpy.org/doc/stable/reference/generated/numpy.reshape.html\n",
    "# code here has been referenced to Steegstra, P. (2018, April 10). *Tutorial: image classification with scikit-learn.* Kapernikov. https://kapernikov.com/tutorial-image-classification-with-scikit-learn/\n",
    "# split training data into two sets: training and validation\n",
    "X_train, X_valid, y_train, y_valid = train_test_split(X, y, test_size=0.2, random_state=0)\n",
    "\n",
    "# reshape\n",
    "qty, w, h, c = X_train.shape\n",
    "X_train_2d = X_train.reshape(qty, w*h*c)\n",
    "qty, w, h, c = X_valid.shape\n",
    "X_valid_2d = X_valid.reshape(qty, w*h*c)\n",
    "\n",
    "print(\"X_train is \" + str(X_train.shape))\n",
    "print(\"Reshaped X_train is \" + str(X_train_2d.shape))\n",
    "print(\"X_valid is \" + str(X_valid.shape))\n",
    "print(\"Reshaped X_valid is \" + str(X_valid_2d.shape))\n",
    "print(\"y_train is \" + str(y_train.shape))\n",
    "print(\"y_valid is \" + str(y_valid.shape))"
   ]
  },
  {
   "cell_type": "code",
   "execution_count": 5,
   "metadata": {},
   "outputs": [],
   "source": [
    "# code here has been referenced to Scikit-learn. (n.d.-g). *6.3. Preprocessing data.* Retrieved July 31, 2024 from https://scikit-learn.org/stable/modules/preprocessing.html#preprocessing\n",
    "# standardlize \n",
    "from sklearn.preprocessing import StandardScaler\n",
    "\n",
    "scaler = StandardScaler()\n",
    "\n",
    "X_train_2d_stand = scaler.fit_transform(X_train_2d)\n",
    "X_valid_2d_stand = scaler.transform(X_valid_2d)"
   ]
  },
  {
   "cell_type": "markdown",
   "metadata": {},
   "source": [
    "The solver of the Logistic Regression model is 'sag' and tolerance is 0.1. This combination is a result of multiple experiments and will be discussed in the Discussion and Limitation section."
   ]
  },
  {
   "cell_type": "code",
   "execution_count": 6,
   "metadata": {},
   "outputs": [
    {
     "name": "stdout",
     "output_type": "stream",
     "text": [
      "The intercept of this model is [0.]\n",
      "The coefficients of this model are [[ 0.01782879 -0.00574657 -0.00115942 ...  0.00871816 -0.00964919\n",
      "   0.00340967]]\n"
     ]
    }
   ],
   "source": [
    "# code here has been referenced to Scikit-learn. (n.d.-e). *Logistic Regression.* Retrieved July 30, 2024, from https://scikit-learn.org/stable/modules/generated/sklearn.linear_model.LogisticRegression.html#sklearn.linear_model.LogisticRegression\n",
    "# fit the model\n",
    "model = LogisticRegression(fit_intercept=False, tol=0.1, solver=\"sag\", n_jobs=-1)\n",
    "model.fit(X_train_2d_stand, y_train)\n",
    "print(\"The intercept of this model is \" + str(model.intercept_))\n",
    "print(\"The coefficients of this model are \" + str(model.coef_))"
   ]
  },
  {
   "cell_type": "markdown",
   "metadata": {},
   "source": [
    "Using the model that we have developed, we are going to predict the y values of the x validation set. Also, the accuracy score, precision score, recall score and f1 score will be printed out. Moreover, the confusion matrix is displayed too."
   ]
  },
  {
   "cell_type": "code",
   "execution_count": 7,
   "metadata": {},
   "outputs": [
    {
     "name": "stdout",
     "output_type": "stream",
     "text": [
      "The accuracy score is 0.6891035109646632\n",
      "The precision score is 0.6012103606874849\n",
      "The recall score is 0.6952189004590751\n",
      "The f1 score is 0.6448061894747774\n"
     ]
    }
   ],
   "source": [
    "# code here has been referenced to Scikit-learn. (n.d.-a). *accuracy_score.* Retrieved July 31, 2024, from https://scikit-learn.org/stable/modules/generated/sklearn.metrics.accuracy_score.html\n",
    "# code here has been referenced to Scikit-learn. (n.d.-d). *f1_score.*  Retrieved July 31, 2024, from https://scikit-learn.org/stable/modules/generated/sklearn.metrics.f1_score.html\n",
    "# code here has been referenced to Scikit-learn. (n.d.-f). *precision_score.* Retrieved July 31, 2024, from https://scikit-learn.org/stable/modules/generated/sklearn.metrics.precision_score.html\n",
    "# code here has been referenced to Scikit-learn. (n.d.-h). *recall_score.* Retrieved July 31, 2024 from https://scikit-learn.org/stable/modules/generated/sklearn.metrics.recall_score.html\n",
    "from sklearn.metrics import accuracy_score, precision_score, recall_score, f1_score\n",
    "\n",
    "# use model to predict the validation set\n",
    "y_predict = model.predict(X_valid_2d_stand)\n",
    "# print out all scores\n",
    "print(\"The accuracy score is \"+str(accuracy_score(y_valid, y_predict)))\n",
    "print(\"The precision score is \"+str(precision_score(y_valid, y_predict, pos_label='1')))\n",
    "print(\"The recall score is \"+str(recall_score(y_valid, y_predict, pos_label='1')))\n",
    "print(\"The f1 score is \"+str(f1_score(y_valid, y_predict, pos_label='1')))"
   ]
  },
  {
   "cell_type": "code",
   "execution_count": 9,
   "metadata": {},
   "outputs": [
    {
     "data": {
      "text/plain": [
       "<sklearn.metrics._plot.confusion_matrix.ConfusionMatrixDisplay at 0x17f523e5510>"
      ]
     },
     "execution_count": 9,
     "metadata": {},
     "output_type": "execute_result"
    },
    {
     "data": {
      "image/png": "[encoded data removed]",
      "text/plain": [
       "<Figure size 640x480 with 2 Axes>"
      ]
     },
     "metadata": {},
     "output_type": "display_data"
    }
   ],
   "source": [
    "# code here has referenced to Scikit-learn. (n.d.-b). *confusion_matrix.* Retrieved July 31, 2024, from https://scikit-learn.org/stable/modules/generated/sklearn.metrics.confusion_matrix.html\n",
    "# code here has referenced to Scikit-learn. (n.d.-c). *ConfusionMatrixDisplay.* Retrieved July 31, 2024, from https://scikit-learn.org/stable/modules/generated/sklearn.metrics.ConfusionMatrixDisplay.html#sklearn.metrics.ConfusionMatrixDisplay\n",
    "from sklearn.metrics import confusion_matrix, ConfusionMatrixDisplay, roc_curve, RocCurveDisplay\n",
    "\n",
    "cm = confusion_matrix(y_valid, y_predict, labels=model.classes_)\n",
    "p = ConfusionMatrixDisplay(confusion_matrix=cm, display_labels=model.classes_)\n",
    "p.plot()"
   ]
  },
  {
   "cell_type": "markdown",
   "metadata": {},
   "source": [
    "Due to the nature of this study, the False Negative Rate (FNR) is important because it would be dangerous to identify a positive image as a negative result. Based on “Confusion matrix” (2024), the False Negative Rate is the number of false negative divided by the total number of positive. From the Confusion matrix above, the False Negative rate is 5444/(5444+12418) = 0.3047. It is interesting to see that this model identifies more True Negative images (i.e., 17906) than True Positive images (i.e., 12418). This can be resulted from the ratio of the True/1 and Negative/0 images in the validation set since from the histogram above, we do see a trend that there are more training data with Negative/0 values than the Positive/1 values. The overall scores of this model are not impressive yet are the best at this moment. The suggested improvements are listed in the Discussion and Limitation section."
   ]
  },
  {
   "cell_type": "markdown",
   "metadata": {},
   "source": [
    "Next, we are going to extract the images in testing dataset to numpy arrays and run our model to get the prediction. Again, we would need to reshape and standardize it in order to feed it to our prediction function. Finally, we export our predictions into a csv file."
   ]
  },
  {
   "cell_type": "code",
   "execution_count": 10,
   "metadata": {},
   "outputs": [
    {
     "name": "stdout",
     "output_type": "stream",
     "text": [
      "(57458, 96, 96, 3)\n",
      "(57458, 27648)\n"
     ]
    }
   ],
   "source": [
    "# code here has been referenced to Numpy. (n.d.). *numpy.reshape.* Retrieved July 30, 2024, from https://numpy.org/doc/stable/reference/generated/numpy.reshape.html\n",
    "# code here has been reference to Scikit-image. (n.d.). *skimage.io.* Retrieved July 30, 2024, from https://scikit-image.org/docs/stable/api/skimage.io.html\n",
    "# code here has been referenced to Steegstra, P. (2018, April 10). *Tutorial: image classification with scikit-learn.* Kapernikov. https://kapernikov.com/tutorial-image-classification-with-scikit-learn/\n",
    "test = dict()\n",
    "test['id']=[]\n",
    "test['data']=[]\n",
    "f = os.listdir(\"test\")\n",
    "for i in f:\n",
    "    if i.endswith(\".tif\"):\n",
    "        arr = skio.imread(\"test\\\\\"+i)\n",
    "        filename = i.replace(\".tif\",\"\")\n",
    "        test['id'].append(str(filename))\n",
    "        test['data'].append(arr)\n",
    "\n",
    "X_test= np.array(test['data'])\n",
    "# reshape\n",
    "qty, w, h, c = X_test.shape\n",
    "X_test_2d = X_test.reshape(qty, w*h*c)\n",
    "print(X_test.shape)\n",
    "print(X_test_2d.shape)"
   ]
  },
  {
   "cell_type": "code",
   "execution_count": 11,
   "metadata": {},
   "outputs": [],
   "source": [
    "# code here has been referenced to Scikit-learn. (n.d.-g). *6.3. Preprocessing data.* Retrieved July 31, 2024 from https://scikit-learn.org/stable/modules/preprocessing.html#preprocessing\n",
    "# export\n",
    "import pandas as pd\n",
    "import numpy as np\n",
    "df = pd.DataFrame()\n",
    "\n",
    "# standardize the testing data\n",
    "X_test_2d_stand = scaler.transform(X_test_2d)\n",
    "\n",
    "# our final prediction\n",
    "final_prediction = model.predict(X_test_2d_stand)\n",
    "\n",
    "df['id'] = np.array(test['id'])\n",
    "df['label'] = final_prediction\n",
    "\n",
    "df.to_csv(\"final_results.csv\", index_label=False, index=False)"
   ]
  },
  {
   "cell_type": "markdown",
   "metadata": {},
   "source": [
    "### Discussion and Limitation:\n",
    "Due to hardware limitations and time constraints, I believe that the optimal model for this challenge has not been found. This could be a result of an inappropriate model and/or parameters used in the model fitting process. The dataset may require more preprocessing steps (e.g., handling outliers) and this has not been identified in the exploratory data analysis. \n",
    "\n",
    "In general, model fitting takes over an hour, which makes it difficult to compare models with different combinations of parameters (e.g., solvers and max iterations). At first, the Logistic Regression Model with the default solver (i.e.,'lbfgs') has been used, however, it does not converge. From Scikit-learn (n.d.-e), the 'sag' solver is recommended for larger datasets and the 'newton-cholesky' solver is ideal when the sample size is much larger than the feature size. Since both of these solvers are suitable for this homework, both of them have been applied. However, only the 'newton-cholesky' solver converged but it took over 6 hours to complete. And, when we look at the accuracy value of validation sets, the converged model (i.e., Logistic Regression with the 'newton-cholesky' solver) is 0.6101 and the accuracy score of the non-converged model (i.e., Logistic Regression with the 'sag' solver) is 0.6159. The difference between these two models is very subtle. \n",
    "![newton-cholesky](nc.png)\n",
    "![newton-cholesky-accuracy](nc_scores.png)\n",
    "![sag](sag2.png)\n",
    "\n",
    "According to Maksud (2014), I decide to change the tolerance value in order to speed up the model development process. When the tolerance value changes from the default value 0.0001 to 0.1, the running time significantly decreased in both 'sag' and 'newton-cholesky' solvers. Interestingly, the 'sag' solver converges when tolerance is 0.1 and gives an accuracy score of 0.6185. The 'newton-cholesky' solver with tolerance is 0.1 takes 4.5 hours and returns an accuracy score of 0.6102. Changing the tolerance value does greatly improve the fitting time, yet the accuracy scores do not improve.\n",
    "![sag_tol](sag_tol.png)\n",
    "![newton-cholesky_tol](nc_tol.png)\n",
    "\n",
    "After trying several solvers (i.e., 'sag' and 'newton-cholesky') with different tolerance values, the accuracy scores among these experiments are still not very impressive. After reading some tips in Arora (2016), preprocessing data seems to be a good direction to go. According to Scikit-learn (n.d.-g), we can standardize the features or scale the features to a certain range, such as between 0 and 1, and this can be achieved by using the StandardScalar and MinMaxScalar, respectively. Using MinMaxScalar to preprocess the data before training does not make significant improvement to the accuracy score. However, the StandardScalar has slightly increased the accuracy scores as well as the precision, recall and f1 scores.  \n",
    "\n",
    "![minmax](minmax_sag.png)\n",
    "![standard](standard_sag.png)\n",
    "\n",
    "Therefore, based on the increased scores, using StandardScalar to preprocess the data and Logistic Regression model with 'sag' solver and tolerance value of 0.1 has been identified the best model we can develop at this moment. The prediction has been submitted to Kaggle. The deadline of this Kaggle challenge has passed, and therefore, my submission cannot be added to the leaderboard. Thus, the print screen of my submission is shown below. The public score of my best model is 0.7303 and the private score is 0.6742.\n",
    "![kaggle_result](kaggle_results.png)\n",
    "  \n",
    "There are room for improvements and some suggestions for future exploration are listed below:\n",
    "1. There are other parameters of the Logistic Regression model that we have not touched (e.g., penalty) and other models, such as the SGDClassifier used in Steegstra (2018), which may have potential to achieve a better model.\n",
    "2. Perform a deep dive of the training data. The exploratory data analysis is limited in this study and can be extended by looking at the distribution of the values and outliers.\n",
    "3. There can be other preprocessing techniques that may be beneficial to model building, such as changing the color mode to grayscale in Steegstra (2018).\n",
    "4. Perhaps the design of CNN makes it a more suitable training tool for our case. It would be interesting to try our challenge in CNN and see if can develop a better model."
   ]
  },
  {
   "cell_type": "markdown",
   "metadata": {},
   "source": [
    "### References\n",
    "Arora, A. (2016, June 28). *Since machine learning is more about experimenting with the features and the models, there is no correct answer to your* [Comment on the online forum post *How to increase the model accuracy of logistic regression in Scikit python?*]. Stack Overflow. https://stackoverflow.com/questions/38077190/how-to-increase-the-model-accuracy-of-logistic-regression-in-scikit-python\n",
    "\n",
    "Confusion matrix. (2024, July 8). In *Wikipedia.* https://en.wikipedia.org/w/index.php?title=Confusion_matrix&oldid=1233255797\n",
    "\n",
    "Cukierski, W. (n.d.). *Histopathologic Cancer Detection.* Kaggle. Retrieved July 30, 2024, from https://kaggle.com/competitions/histopathologic-cancer-detection\n",
    "\n",
    "Galarnyk, M. (2017, September 13). *Logistic Regression using Python (scikit-learn).* Medium. https://towardsdatascience.com/logistic-regression-using-python-sklearn-numpy-mnist-handwriting-recognition-matplotlib-a6b31e2b166a\n",
    "\n",
    "Maksud. (2014, August 6). *Try reducing data set size and changing tolerance parameter. For example you can try classifier = LogisticRegression(tol = 0.1)* [Comment on the online forum post *Speeding up sklearn logistic regression.*]. Stack Overflow. https://stackoverflow.com/questions/20894671/speeding-up-sklearn-logistic-regression\n",
    "\n",
    "Numpy. (n.d.). *numpy.reshape.* Retrieved July 30, 2024, from https://numpy.org/doc/stable/reference/generated/numpy.reshape.html\n",
    "\n",
    "Pandas. (n.d.). *pandas.read_csv.* Retrieved July 30, 2024, from https://pandas.pydata.org/pandas-docs/stable/reference/api/pandas.read_csv.html\n",
    "\n",
    "Python. (2024, July 28). *csv — CSV File Reading and Writing.* https://docs.python.org/3/library/csv.html\n",
    "\n",
    "Scikit-image. (n.d.). *skimage.io.* Retrieved July 30, 2024, from https://scikit-image.org/docs/stable/api/skimage.io.html\n",
    "\n",
    "Scikit-learn. (n.d.-a). *accuracy_score.* Retrieved July 31, 2024, from https://scikit-learn.org/stable/modules/generated/sklearn.metrics.accuracy_score.html\n",
    "\n",
    "Scikit-learn. (n.d.-b). *confusion_matrix.* Retrieved July 31, 2024, from https://scikit-learn.org/stable/modules/generated/sklearn.metrics.confusion_matrix.html\n",
    "\n",
    "Scikit-learn. (n.d.-c). *ConfusionMatrixDisplay.* Retrieved July 31, 2024, from https://scikit-learn.org/stable/modules/generated/sklearn.metrics.ConfusionMatrixDisplay.html#sklearn.metrics.ConfusionMatrixDisplay\n",
    "\n",
    "Scikit-learn. (n.d.-d). *f1_score.*  Retrieved July 31, 2024, from https://scikit-learn.org/stable/modules/generated/sklearn.metrics.f1_score.html\n",
    "\n",
    "Scikit-learn. (n.d.-e). *Logistic Regression.* Retrieved July 30, 2024, from https://scikit-learn.org/stable/modules/generated/sklearn.linear_model.LogisticRegression.html#sklearn.linear_model.LogisticRegression\n",
    "\n",
    "Scikit-learn. (n.d.-f). *precision_score.* Retrieved July 31, 2024, from https://scikit-learn.org/stable/modules/generated/sklearn.metrics.precision_score.html\n",
    "\n",
    "Scikit-learn. (n.d.-g). *6.3. Preprocessing data.* Retrieved July 31, 2024 from https://scikit-learn.org/stable/modules/preprocessing.html#preprocessing\n",
    "\n",
    "Scikit-learn. (n.d.-h). *recall_score.* Retrieved July 31, 2024 from https://scikit-learn.org/stable/modules/generated/sklearn.metrics.recall_score.html\n",
    "\n",
    "Steegstra, P. (2018, April 10). *Tutorial: image classification with scikit-learn.* Kapernikov. https://kapernikov.com/tutorial-image-classification-with-scikit-learn/"
   ]
  }
 ],
 "metadata": {
  "kernelspec": {
   "display_name": "Python 3 (ipykernel)",
   "language": "python",
   "name": "python3"
  },
  "language_info": {
   "codemirror_mode": {
    "name": "ipython",
    "version": 3
   },
   "file_extension": ".py",
   "mimetype": "text/x-python",
   "name": "python",
   "nbconvert_exporter": "python",
   "pygments_lexer": "ipython3",
   "version": "3.10.8"
  }
 },
 "nbformat": 4,
 "nbformat_minor": 4
}
